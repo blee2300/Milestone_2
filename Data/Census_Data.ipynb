{
 "cells": [
  {
   "cell_type": "code",
   "execution_count": 50,
   "id": "a3cbe958",
   "metadata": {},
   "outputs": [
    {
     "name": "stdout",
     "output_type": "stream",
     "text": [
      "Requirement already satisfied: census in c:\\users\\lkchi\\anaconda3\\lib\\site-packages (0.8.23)\n",
      "Requirement already satisfied: requests>=1.1.0 in c:\\users\\lkchi\\anaconda3\\lib\\site-packages (from census) (2.27.1)\n",
      "Requirement already satisfied: certifi>=2017.4.17 in c:\\users\\lkchi\\anaconda3\\lib\\site-packages (from requests>=1.1.0->census) (2024.8.30)\n",
      "Requirement already satisfied: charset-normalizer~=2.0.0 in c:\\users\\lkchi\\anaconda3\\lib\\site-packages (from requests>=1.1.0->census) (2.0.4)\n",
      "Requirement already satisfied: urllib3<1.27,>=1.21.1 in c:\\users\\lkchi\\anaconda3\\lib\\site-packages (from requests>=1.1.0->census) (1.26.8)\n",
      "Requirement already satisfied: idna<4,>=2.5 in c:\\users\\lkchi\\anaconda3\\lib\\site-packages (from requests>=1.1.0->census) (3.3)\n",
      "Requirement already satisfied: us in c:\\users\\lkchi\\anaconda3\\lib\\site-packages (3.2.0)\n",
      "Requirement already satisfied: jellyfish in c:\\users\\lkchi\\anaconda3\\lib\\site-packages (from us) (1.1.3)\n",
      "Collecting addfips\n",
      "  Downloading addfips-0.4.2-py3-none-any.whl (120 kB)\n",
      "Installing collected packages: addfips\n",
      "Successfully installed addfips-0.4.2\n"
     ]
    }
   ],
   "source": [
    "!pip install census\n",
    "!pip install us\n",
    "!pip install addfips"
   ]
  },
  {
   "cell_type": "code",
   "execution_count": 21,
   "id": "5c79c5c5",
   "metadata": {},
   "outputs": [],
   "source": [
    "from census import Census\n",
    "from us import states\n",
    "import API_KEYS\n",
    "import pandas as pd\n",
    "\n",
    "c = Census(API_KEYS.API_KEY)"
   ]
  },
  {
   "cell_type": "code",
   "execution_count": 48,
   "id": "d6f4d12c",
   "metadata": {},
   "outputs": [
    {
     "name": "stdout",
     "output_type": "stream",
     "text": [
      "2009\n",
      "2010\n",
      "2011\n",
      "2012\n",
      "2013\n",
      "2014\n",
      "2015\n",
      "2016\n",
      "2017\n",
      "2018\n",
      "2019\n",
      "2020\n",
      "2021\n",
      "2022\n"
     ]
    }
   ],
   "source": [
    "\n",
    "for i in range(2009, 2023):\n",
    "    if i == 2009:\n",
    "        data = c.acs5dp.state_county(('DP03_0006E', 'DP03_0009PE', 'DP03_0064E', 'DP03_0063E', 'DP04_0003E', 'DP04_0005E', 'DP03_0103E', 'DP04_0088E','NAME'), '*', '*', year = i) \n",
    "        #mil pop, unemployment %, mean income, median income, vacant housing units, rental vacany rate, % below poverty, median house value\n",
    "        #https://api.census.gov/data/2009/acs/acs5/profile/variables/DP03_0006E.html\n",
    "    if i >= 2021:\n",
    "        data = c.acs5dp.state_county(('DP03_0006E', 'DP03_0009PE', 'DP03_0063E', 'DP03_0062E', 'DP04_0003E', 'DP04_0005E', 'DP03_0119PE', 'DP04_0089E','NAME'), '*', '*', year = i)\n",
    "        #mil pop, unemployment %, mean income, median income, vacant housing units, rental vacany rate, % below poverty, median house value\n",
    "        #https://api.census.gov/data/2022/acs/acs5/profile/variables.html\n",
    "    else:\n",
    "        data = c.acs5dp.state_county(('DP03_0006E', 'DP03_0009PE', 'DP03_0063E', 'DP03_0062E', 'DP04_0003E', 'DP04_0005E', 'DP03_0119PE', 'DP04_0088E','NAME'), '*', '*', year = i) \n",
    "        #mil pop, unemployment %, mean income, median income, vacant housing units, rental vacany rate, % below poverty, median house value\n",
    "        #https://api.census.gov/data/2010/acs/acs5/profile/variables.html\n",
    "    \n",
    "    cen_data = pd.DataFrame(data)\n",
    "    cen_data[['county_name', 'state_name']] = cen_data['NAME'].str.split(',', expand = True)\n",
    "    cen_data.columns = ['mil pop', 'unemployment %', 'mean income', 'median income', 'vacant housing units', 'rental vacany rate', '% below poverty line', 'median house value', *cen_data.columns[8:]]\n",
    "    cen_data.to_csv(str(i)+'_census_data.csv', index = False)\n",
    "    print(i)"
   ]
  },
  {
   "cell_type": "code",
   "execution_count": null,
   "id": "0668aefb",
   "metadata": {},
   "outputs": [],
   "source": []
  },
  {
   "cell_type": "code",
   "execution_count": null,
   "id": "8d5f6608",
   "metadata": {},
   "outputs": [],
   "source": []
  },
  {
   "cell_type": "code",
   "execution_count": null,
   "id": "1a7661a4",
   "metadata": {},
   "outputs": [],
   "source": []
  },
  {
   "cell_type": "code",
   "execution_count": 23,
   "id": "760f0ec2",
   "metadata": {},
   "outputs": [],
   "source": []
  },
  {
   "cell_type": "code",
   "execution_count": null,
   "id": "c3047b2a",
   "metadata": {},
   "outputs": [],
   "source": []
  },
  {
   "cell_type": "code",
   "execution_count": null,
   "id": "5b7554f1",
   "metadata": {},
   "outputs": [],
   "source": []
  },
  {
   "cell_type": "code",
   "execution_count": null,
   "id": "74d41045",
   "metadata": {},
   "outputs": [],
   "source": []
  },
  {
   "cell_type": "code",
   "execution_count": null,
   "id": "a16fe572",
   "metadata": {},
   "outputs": [],
   "source": []
  }
 ],
 "metadata": {
  "kernelspec": {
   "display_name": "Python 3 (ipykernel)",
   "language": "python",
   "name": "python3"
  },
  "language_info": {
   "codemirror_mode": {
    "name": "ipython",
    "version": 3
   },
   "file_extension": ".py",
   "mimetype": "text/x-python",
   "name": "python",
   "nbconvert_exporter": "python",
   "pygments_lexer": "ipython3",
   "version": "3.9.7"
  }
 },
 "nbformat": 4,
 "nbformat_minor": 5
}
